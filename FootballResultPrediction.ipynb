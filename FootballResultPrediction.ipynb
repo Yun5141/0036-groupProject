{
  "nbformat": 4,
  "nbformat_minor": 0,
  "metadata": {
    "colab": {
      "name": "FootballResultPrediction.ipynb",
      "provenance": [],
      "collapsed_sections": [],
      "toc_visible": true,
      "include_colab_link": true
    },
    "kernelspec": {
      "name": "python3",
      "display_name": "Python 3"
    },
    "accelerator": "GPU"
  },
  "cells": [
    {
      "cell_type": "markdown",
      "metadata": {
        "id": "view-in-github",
        "colab_type": "text"
      },
      "source": [
        "<a href=\"https://colab.research.google.com/github/Yun5141/comp0036/blob/master/FootballResultPrediction.ipynb\" target=\"_parent\"><img src=\"https://colab.research.google.com/assets/colab-badge.svg\" alt=\"Open In Colab\"/></a>"
      ]
    },
    {
      "cell_type": "markdown",
      "metadata": {
        "id": "RbwPTMh0lmA6",
        "colab_type": "text"
      },
      "source": [
        "# 1. Introduction [*Terry*]"
      ]
    },
    {
      "cell_type": "markdown",
      "metadata": {
        "id": "7lNNXxH5mSMN",
        "colab_type": "text"
      },
      "source": [
        "# 2. Data Import  [*Yun*]"
      ]
    },
    {
      "cell_type": "code",
      "metadata": {
        "id": "uK0CNnifmW0M",
        "colab_type": "code",
        "colab": {}
      },
      "source": [
        "import pandas as pd \n",
        "\n",
        "# import training data set\n",
        "url=\"https://raw.githubusercontent.com/Yun5141/comp0036/master/data/epl-training.csv\"\n",
        "raw_training_data=pd.read_csv(url)\n",
        "\n",
        "# import test set\n",
        "url = 'https://raw.githubusercontent.com/Yun5141/comp0036/master/data/epl-test.csv'\n",
        "rawData_toPred = pd.read_csv(url)\n",
        "\n",
        "# import 2019 up-to-date data (from http://www.football-data.co.uk)\n",
        "url = 'https://raw.githubusercontent.com/Yun5141/comp0036/master/data/2019EPL.csv'\n",
        "rawData_2019_uptodate = pd.read_csv(url)\n",
        "\n",
        "# import geometric information of teams\n",
        "url = \"https://raw.githubusercontent.com/Yun5141/comp0036/master/data/stadiums-with-GPS-coordinates.csv\"\n",
        "geometricData = pd.read_csv(url)"
      ],
      "execution_count": 0,
      "outputs": []
    },
    {
      "cell_type": "markdown",
      "metadata": {
        "id": "tnNgP1TpsS-c",
        "colab_type": "text"
      },
      "source": [
        "# 3. Data Transformation & Exploration [*Yun*]"
      ]
    },
    {
      "cell_type": "markdown",
      "metadata": {
        "id": "7B_FaFS_38OD",
        "colab_type": "text"
      },
      "source": [
        "### 3.1 Initial Data Exploration"
      ]
    },
    {
      "cell_type": "markdown",
      "metadata": {
        "id": "I4bC5O7w4J16",
        "colab_type": "text"
      },
      "source": [
        "### 3.2 Feature Construction"
      ]
    },
    {
      "cell_type": "markdown",
      "metadata": {
        "id": "Rzi4aEb35g3a",
        "colab_type": "text"
      },
      "source": [
        "##### 3.2.1 Distance needed to travel for the away team"
      ]
    },
    {
      "cell_type": "markdown",
      "metadata": {
        "id": "q-4CgM2T5-G2",
        "colab_type": "text"
      },
      "source": [
        "##### 3.2.2 Delta time from last match for home team and away team  "
      ]
    },
    {
      "cell_type": "markdown",
      "metadata": {
        "id": "mjmXp8Y06enf",
        "colab_type": "text"
      },
      "source": [
        "##### 3.2.3 Cumulative full time goal difference for home team and away team"
      ]
    },
    {
      "cell_type": "markdown",
      "metadata": {
        "id": "WdUWSKsy6tsK",
        "colab_type": "text"
      },
      "source": [
        "##### 3.2.4 Averaged full time goal difference for home team and away team"
      ]
    },
    {
      "cell_type": "markdown",
      "metadata": {
        "id": "8MHYpEE261SS",
        "colab_type": "text"
      },
      "source": [
        "##### 3.2.5 Performances of last 3 matches for home team and away team"
      ]
    },
    {
      "cell_type": "markdown",
      "metadata": {
        "id": "EkthKF7J4eiU",
        "colab_type": "text"
      },
      "source": [
        "### 3.3 Data Transformation"
      ]
    },
    {
      "cell_type": "markdown",
      "metadata": {
        "id": "gFBcPsCw41qB",
        "colab_type": "text"
      },
      "source": [
        "### 3.4 Second Data Exploration"
      ]
    },
    {
      "cell_type": "markdown",
      "metadata": {
        "id": "tQchbTR5y393",
        "colab_type": "text"
      },
      "source": [
        "# 4. Methodology Overview [*Yanke*]"
      ]
    },
    {
      "cell_type": "markdown",
      "metadata": {
        "id": "RicM6wtp1jlf",
        "colab_type": "text"
      },
      "source": [
        "# 5. Model Training & Validation [*Yanke*]"
      ]
    },
    {
      "cell_type": "markdown",
      "metadata": {
        "id": "h1cNAnlv1mVn",
        "colab_type": "text"
      },
      "source": [
        "# 6. Result [*Yi*]"
      ]
    },
    {
      "cell_type": "markdown",
      "metadata": {
        "id": "Ev2RFUeQ1pT2",
        "colab_type": "text"
      },
      "source": [
        "# 7. Final Predictions on Test Set [*Yusi*]"
      ]
    }
  ]
}