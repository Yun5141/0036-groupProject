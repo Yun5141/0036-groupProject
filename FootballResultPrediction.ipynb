{
  "nbformat": 4,
  "nbformat_minor": 0,
  "metadata": {
    "colab": {
      "name": "FootballResultPrediction.ipynb",
      "provenance": [],
      "collapsed_sections": [],
      "toc_visible": true,
      "include_colab_link": true
    },
    "kernelspec": {
      "name": "python3",
      "display_name": "Python 3"
    },
    "accelerator": "GPU"
  },
  "cells": [
    {
      "cell_type": "markdown",
      "metadata": {
        "colab_type": "text",
        "id": "view-in-github"
      },
      "source": [
        "<a href=\"https://colab.research.google.com/github/Yun5141/comp0036/blob/master/FootballResultPrediction.ipynb\" target=\"_parent\"><img src=\"https://colab.research.google.com/assets/colab-badge.svg\" alt=\"Open In Colab\"/></a>"
      ]
    },
    {
      "cell_type": "markdown",
      "metadata": {
        "colab_type": "text",
        "id": "RbwPTMh0lmA6"
      },
      "source": [
        "# 1. Introduction [*Terry*]"
      ]
    },
    {
      "cell_type": "markdown",
      "metadata": {
        "colab_type": "text",
        "id": "7lNNXxH5mSMN"
      },
      "source": [
        "# 2. Data Import  [*Yun*]"
      ]
    },
    {
      "cell_type": "markdown",
      "execution_count": null,
      "metadata": {},
      "outputs": [],
      "source": [
        "We first import all the packages that will be used in the code:"
      ]
    },
    {
      "cell_type": "code",
      "execution_count": null,
      "metadata": {},
      "outputs": [],
      "source": [
        "import pandas as pd "
      ]
    },
    {
      "cell_type": "markdown",
      "execution_count": null,
      "metadata": {},
      "outputs": [],
      "source": [
        "And then the data sets from our github repository (https://github.com/Yun5141/comp0036):"
      ]
    },
    {
      "cell_type": "code",
      "execution_count": 1,
      "metadata": {},
      "outputs": [],
      "source": [
        "# training data set\n",
        "url=\"https://raw.githubusercontent.com/Yun5141/comp0036/master/data/epl-training.csv\"\n",
        "raw_training_data=pd.read_csv(url)\n",
        "\n",
        "# test set\n",
        "url = 'https://raw.githubusercontent.com/Yun5141/comp0036/master/data/epl-test.csv'\n",
        "rawData_toPred = pd.read_csv(url)\n",
        "\n",
        "# 2019 up-to-date data (from http://www.football-data.co.uk)\n",
        "url = 'https://raw.githubusercontent.com/Yun5141/comp0036/master/data/epl2019.csv'\n",
        "rawData_2019_uptodate = pd.read_csv(url)\n",
        "\n",
        "# geometric information of teams\n",
        "# to calculate the distance needed to travel for the away team\n",
        "url = \"https://raw.githubusercontent.com/Yun5141/comp0036/master/data/stadiums-with-GPS-coordinates.csv\"\n",
        "geometricData = pd.read_csv(url)"
      ]
    },
    {
      "cell_type": "markdown",
      "metadata": {
        "colab_type": "text",
        "id": "tnNgP1TpsS-c"
      },
      "source": [
        "# 3. Data Transformation & Exploration [*Yun*]"
      ]
    },
    {
      "cell_type": "markdown",
      "metadata": {
        "colab_type": "text",
        "id": "7B_FaFS_38OD"
      },
      "source": [
        "### 3.1 Initial Data Exploration"
      ]
    },
    {
      "cell_type": "markdown",
      "execution_count": null,
      "metadata": {},
      "outputs": [],
      "source": [
        "##### 3.1.1 Check if there is invalid data"
      ]
    },
    {
      "cell_type": "markdown",
      "execution_count": null,
      "metadata": {},
      "outputs": [],
      "source": [
        "Firstly we check if there is data containing None, NaN, infinite or overflowed values:"
      ]
    },
    {
      "cell_type": "code",
      "execution_count": 3,
      "metadata": {},
      "outputs": [
        {
          "ename": "NameError",
          "evalue": "name 'np' is not defined",
          "output_type": "error",
          "traceback": [
            "\u001b[0;31m---------------------------------------------------------------------------\u001b[0m",
            "\u001b[0;31mNameError\u001b[0m                                 Traceback (most recent call last)",
            "\u001b[0;32m<ipython-input-3-4dbe681a7a03>\u001b[0m in \u001b[0;36m<module>\u001b[0;34m\u001b[0m\n\u001b[1;32m     11\u001b[0m \u001b[0;34m\u001b[0m\u001b[0m\n\u001b[1;32m     12\u001b[0m \u001b[0;31m# !!! 【report中: 第一步先检查有无空值】\u001b[0m\u001b[0;34m\u001b[0m\u001b[0;34m\u001b[0m\u001b[0;34m\u001b[0m\u001b[0m\n\u001b[0;32m---> 13\u001b[0;31m \u001b[0;32massert\u001b[0m \u001b[0mraw_training_data\u001b[0m\u001b[0;34m.\u001b[0m\u001b[0mshape\u001b[0m\u001b[0;34m[\u001b[0m\u001b[0;36m0\u001b[0m\u001b[0;34m]\u001b[0m \u001b[0;34m==\u001b[0m \u001b[0mremoveInvalidData\u001b[0m\u001b[0;34m(\u001b[0m\u001b[0mraw_training_data\u001b[0m\u001b[0;34m)\u001b[0m\u001b[0;34m.\u001b[0m\u001b[0mshape\u001b[0m\u001b[0;34m[\u001b[0m\u001b[0;36m0\u001b[0m\u001b[0;34m]\u001b[0m\u001b[0;34m\u001b[0m\u001b[0;34m\u001b[0m\u001b[0m\n\u001b[0m",
            "\u001b[0;32m<ipython-input-3-4dbe681a7a03>\u001b[0m in \u001b[0;36mremoveInvalidData\u001b[0;34m(data)\u001b[0m\n\u001b[1;32m      5\u001b[0m \u001b[0;34m\u001b[0m\u001b[0m\n\u001b[1;32m      6\u001b[0m     \u001b[0;31m# remove data which contains NaN, infinite or overflowed number\u001b[0m\u001b[0;34m\u001b[0m\u001b[0;34m\u001b[0m\u001b[0;34m\u001b[0m\u001b[0m\n\u001b[0;32m----> 7\u001b[0;31m     \u001b[0mindices_to_keep\u001b[0m \u001b[0;34m=\u001b[0m \u001b[0;34m~\u001b[0m\u001b[0mdata\u001b[0m\u001b[0;34m.\u001b[0m\u001b[0misin\u001b[0m\u001b[0;34m(\u001b[0m\u001b[0;34m[\u001b[0m\u001b[0mnp\u001b[0m\u001b[0;34m.\u001b[0m\u001b[0mnan\u001b[0m\u001b[0;34m,\u001b[0m \u001b[0mnp\u001b[0m\u001b[0;34m.\u001b[0m\u001b[0minf\u001b[0m\u001b[0;34m,\u001b[0m \u001b[0;34m-\u001b[0m\u001b[0mnp\u001b[0m\u001b[0;34m.\u001b[0m\u001b[0minf\u001b[0m\u001b[0;34m]\u001b[0m\u001b[0;34m)\u001b[0m\u001b[0;34m.\u001b[0m\u001b[0many\u001b[0m\u001b[0;34m(\u001b[0m\u001b[0;36m1\u001b[0m\u001b[0;34m)\u001b[0m\u001b[0;34m\u001b[0m\u001b[0;34m\u001b[0m\u001b[0m\n\u001b[0m\u001b[1;32m      8\u001b[0m     \u001b[0mdata\u001b[0m \u001b[0;34m=\u001b[0m \u001b[0mdata\u001b[0m\u001b[0;34m[\u001b[0m\u001b[0mindices_to_keep\u001b[0m\u001b[0;34m]\u001b[0m\u001b[0;34m\u001b[0m\u001b[0;34m\u001b[0m\u001b[0m\n\u001b[1;32m      9\u001b[0m \u001b[0;34m\u001b[0m\u001b[0m\n",
            "\u001b[0;31mNameError\u001b[0m: name 'np' is not defined"
          ]
        }
      ],
      "source": [
        "def removeInvalidData(data):\n",
        "\n",
        "    # remove data which contains None\n",
        "    data.dropna(axis=0, how='any',inplace=True)\n",
        "\n",
        "    # remove data which contains NaN, infinite or overflowed number \n",
        "    indices_to_keep = ~data.isin([np.nan, np.inf, -np.inf]).any(1)\n",
        "    data = data[indices_to_keep]\n",
        "\n",
        "    return data\n",
        "\n",
        "# !!! 【report中: 第一步先检查有无空值】\n",
        "assert raw_training_data.shape[0] == removeInvalidData(raw_training_data).shape[0]\n"
      ]
    },
    {
      "cell_type": "markdown",
      "metadata": {
        "colab_type": "text",
        "id": "I4bC5O7w4J16"
      },
      "source": [
        "### 3.2 Feature Construction"
      ]
    },
    {
      "cell_type": "markdown",
      "metadata": {
        "colab_type": "text",
        "id": "Rzi4aEb35g3a"
      },
      "source": [
        "##### 3.2.1 Distance needed to travel for the away team"
      ]
    },
    {
      "cell_type": "markdown",
      "metadata": {
        "colab_type": "text",
        "id": "q-4CgM2T5-G2"
      },
      "source": [
        "##### 3.2.2 Delta time from last match for home team and away team  "
      ]
    },
    {
      "cell_type": "markdown",
      "metadata": {
        "colab_type": "text",
        "id": "mjmXp8Y06enf"
      },
      "source": [
        "##### 3.2.3 Cumulative full time goal difference for home team and away team"
      ]
    },
    {
      "cell_type": "markdown",
      "metadata": {
        "colab_type": "text",
        "id": "WdUWSKsy6tsK"
      },
      "source": [
        "##### 3.2.4 Averaged full time goal difference for home team and away team"
      ]
    },
    {
      "cell_type": "markdown",
      "metadata": {
        "colab_type": "text",
        "id": "8MHYpEE261SS"
      },
      "source": [
        "##### 3.2.5 Performances of last 3 matches for home team and away team"
      ]
    },
    {
      "cell_type": "markdown",
      "metadata": {
        "colab_type": "text",
        "id": "EkthKF7J4eiU"
      },
      "source": [
        "### 3.3 Data Transformation"
      ]
    },
    {
      "cell_type": "markdown",
      "metadata": {
        "colab_type": "text",
        "id": "gFBcPsCw41qB"
      },
      "source": [
        "### 3.4 Second Data Exploration"
      ]
    },
    {
      "cell_type": "markdown",
      "metadata": {
        "colab_type": "text",
        "id": "tQchbTR5y393"
      },
      "source": [
        "# 4. Methodology Overview [*Yanke*]"
      ]
    },
    {
      "cell_type": "markdown",
      "metadata": {
        "colab_type": "text",
        "id": "RicM6wtp1jlf"
      },
      "source": [
        "# 5. Model Training & Validation [*Yanke*]"
      ]
    },
    {
      "cell_type": "markdown",
      "metadata": {
        "colab_type": "text",
        "id": "h1cNAnlv1mVn"
      },
      "source": [
        "# 6. Result [*Yi*]"
      ]
    },
    {
      "cell_type": "markdown",
      "metadata": {
        "colab_type": "text",
        "id": "Ev2RFUeQ1pT2"
      },
      "source": [
        "# 7. Final Predictions on Test Set [*Yusi*]"
      ]
    }
  ]
}